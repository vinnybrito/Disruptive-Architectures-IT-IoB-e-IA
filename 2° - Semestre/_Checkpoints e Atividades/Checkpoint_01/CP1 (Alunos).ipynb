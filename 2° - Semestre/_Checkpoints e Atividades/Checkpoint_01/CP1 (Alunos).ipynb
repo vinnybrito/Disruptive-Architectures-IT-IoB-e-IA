{
 "cells": [
  {
   "cell_type": "markdown",
   "metadata": {},
   "source": [
    "# CP4 - Representação de Conhecimento e Ciência de Dados \n",
    "\n",
    "### Instruções\n",
    "\n",
    "Leia atentamente as instruções.\n",
    "\n",
    "1) O trabalho deve ser realizado em grupo de até 5 pessoas. Não precisa ser o mesmo grupo do Challenge; \n",
    "\n",
    "2) Você deverá submeter este arquivo Jupyter Notebook com as respostas nos campos indicados. Caso ache necessário, crie células markdown para comentar suas respostas e apontamentos;\n",
    "\n",
    "3) Apenas um aluno submeterá no Teams. Mude o nome do arquivo para **CP4-turma-NomeSobrenome.ipynb** onde **turma** deve ser trocado pela turma do grupo (H,A,F,G) e o NomeSobrenome trocado pelo nome e sobrenome do aluno que submeter o arquivo;\n",
    "\n",
    "4) A entrega deverá ser feita na respectiva tarefa no Microsoft Teams até a data indicada;\n",
    "\n",
    "5) As pontuações das questões estão marcadas em cada uma;\n",
    "\n",
    "6) Você pode usar códigos prontos, mas não copiar dos outros grupos. Lembre-se que dificilmente duas pessoas pensam exatamente nos mesmos nomes de variáveis e nas mesmas frases de comentários. <font color='red'>Se forem pegos dois arquivos iguais ou extremamente semelhantes, ambos serão deconsiderados e a nota será zerada para os dois grupos </font>;\n",
    "\n",
    "7) Dúvidas, pergunte ao professor. Não deixe para perguntar no final de semana da entrega!"
   ]
  },
  {
   "cell_type": "markdown",
   "metadata": {},
   "source": [
    "### Insira nome e RM dos membros do grupo aqui\n",
    "\n",
    "- Nome1 1234567\n",
    "- Nome2 0000000\n",
    "- Nome3"
   ]
  },
  {
   "cell_type": "markdown",
   "metadata": {},
   "source": [
    "-----------------------------------\n",
    "# Questão 1 - Sintetizador de Voz  <font color='red'>(4 pontos)</font>.\n",
    " \n",
    "Você recebeu dados de fonemas e sílabas em português, construídos na forma de dicionários para facilitar a busca e a utilização.\n",
    "\n",
    "Certifique-se que os caminhos dos arquivos inseridos no dicionário refletem a disposição de arquivos na sua máquina, e que as palavras usadas estão no seu vocabulário de palavras.\n",
    "\n",
    "Além disso você recebeu um arquivo .txt de texto contendo diversar frases.\n",
    "\n",
    "**Faça um sintetizador de voz rundimentar que concatena os fonemas para reproduzir as frases recebidas.**\n",
    "\n",
    "Esse tipo de sistema é chamado de TTS (Text to Speech). "
   ]
  },
  {
   "cell_type": "code",
   "execution_count": null,
   "metadata": {},
   "outputs": [],
   "source": [
    "# Você vai precisar dessar bibliotecas, mas caso ache necessário usar outras mais\n",
    "# basta adiciona-las aqui. Lembre-se de dizer o motivo te ter importanto da biblioteca na frente dela\n",
    "\n",
    "import librosa         # Processamento de audio\n",
    "import soundfile as sf # Processamento de audio\n",
    "import numpy as np     # Vetores numericos"
   ]
  },
  {
   "cell_type": "code",
   "execution_count": null,
   "metadata": {},
   "outputs": [],
   "source": [
    "# Este é o dicionário de fonemas que mapeia cada fonema para um arquivo de áudio\n",
    "dicionario_fonemas={\n",
    "    'ah':'fonemas/phoneme_ah.wav',\n",
    "    'oh':'fonemas/phoneme_oh.wav',\n",
    "    'ca':'fonemas/phoneme_ca.wav',\n",
    "    'co':'fonemas/phoneme_co.wav',\n",
    "    'de':'fonemas/phoneme_de.wav',\n",
    "    'do':'fonemas/phoneme_do.wav',\n",
    "    'em':'fonemas/phoneme_em.wav',\n",
    "    'eu':'fonemas/phoneme_eu.wav',\n",
    "    'ma':'fonemas/phoneme_ma.wav',\n",
    "    'mo':'fonemas/phoneme_mo.wav',\n",
    "    'pa':'fonemas/phoneme_pa.wav',\n",
    "    'to':'fonemas/phoneme_to.wav',\n",
    "    'um':'fonemas/phoneme_um.wav',\n",
    "    'ra':'fonemas/phoneme_ra.wav',\n",
    "    'ro':'fonemas/phoneme_ro.wav',\n",
    "    'rah':'fonemas/phoneme_rah.wav',\n",
    "    'meu':'fonemas/phoneme_meu.wav',\n",
    "    'rao':'fonemas/phoneme_rao.wav',\n",
    "    'rei':'fonemas/phoneme_rei.wav',\n",
    "    'rou':'fonemas/phoneme_rou.wav'\n",
    "}"
   ]
  },
  {
   "cell_type": "code",
   "execution_count": null,
   "metadata": {},
   "outputs": [],
   "source": [
    "# O dicionário de sílabas mapeia cada palavra para uma lista de fonemas\n",
    "dicionario_silabas = {\n",
    "    'o':['oh'],\n",
    "    'a':['ah'],\n",
    "    'do':['do'],\n",
    "    'de':['de'],\n",
    "    'rato':['rah','to'],\n",
    "    'rei':['rei'],\n",
    "    'roeu':['ro','eu'],\n",
    "    'roma':['ro','ma'],\n",
    "    'roupa':['rou','pa'],\n",
    "    'comeu':['co','meu'],\n",
    "    'coma':['co','ma'],\n",
    "    'meu':['meu'],\n",
    "    'mora':['mo','ra'],\n",
    "    'um':['um'],\n",
    "    'macarrão':['ma','ca','rao'],\n",
    "    'macaco':['ma','ca','co'],\n",
    "    'caro':['ca','ro'],\n",
    "    'maca':['ma','ca'],\n",
    "    'raro':['rah','ro'],\n",
    "    'dedo':['de','do'],\n",
    "    'em':['em']\n",
    "}"
   ]
  },
  {
   "cell_type": "code",
   "execution_count": null,
   "metadata": {},
   "outputs": [],
   "source": [
    "# O sintetizador de voz pode ser visto como uma função em python\n",
    "# que recebe a frase, o dicionário de sílabas e o dicionário de fonemas\n",
    "# e devolve um vetor numpy com o áudio final da frase\n",
    "\n",
    "def sintetizador_voz(frase, dicionario_silabas, dicionario_fonemas):\n",
    "    \n",
    "    audio_sintetizado=np.array([]) # Arquivo de audio que está sendo gerado\n",
    "    \n",
    "    # Complete o código\n",
    "    # Dicas:\n",
    "    # Você precisa quebrar a frase em palavras\n",
    "    # Percorrer dicionarios\n",
    "    # Concatenar vetores numpy\n",
    "    \n",
    "    return(audio_sintetizado)"
   ]
  },
  {
   "cell_type": "code",
   "execution_count": null,
   "metadata": {},
   "outputs": [],
   "source": [
    "# Adicione aqui seu código para ler o arquivo txt"
   ]
  },
  {
   "cell_type": "code",
   "execution_count": null,
   "metadata": {},
   "outputs": [],
   "source": [
    "# Adicione aqui seu código que chama a função sintetizador para cada frase lida \n",
    "# e gera os arquivos de áudio sintetizados\n",
    "\n",
    "\n",
    "# Para escrever um arquivo de áudio você pode usar o\n",
    "# sf.write('nome_do_arquivo.wav', audio_sintetizado, samplerate=44100, format='wav') "
   ]
  },
  {
   "cell_type": "markdown",
   "metadata": {},
   "source": [
    "----------------------------------------\n",
    "# Questão 2 - Análise Exploratória FIFA 2019\n",
    "\n",
    "Você está recebendo um arquivo .csv com dados do FIFA 2019. Você deve responder os itens a seguir sobre o dataset."
   ]
  },
  {
   "cell_type": "code",
   "execution_count": null,
   "metadata": {},
   "outputs": [],
   "source": [
    "# Carregue aqui as bibliotecas que você usar"
   ]
  },
  {
   "cell_type": "markdown",
   "metadata": {},
   "source": [
    "### a) Carregue os dados e filtre as linhas e colunas como visto em aula. <font color='red'>(1 ponto)</font>\n",
    "\n",
    "Queremos manter as colunas **Name**, **Age**, **Nationality**, **Club**, **Overall**, **Value**, **Wage** e **Position**. "
   ]
  },
  {
   "cell_type": "code",
   "execution_count": null,
   "metadata": {},
   "outputs": [],
   "source": [
    "# Coloque seu código aqui"
   ]
  },
  {
   "cell_type": "markdown",
   "metadata": {},
   "source": [
    "### b) Faça uma função para arrumar os valores da coluna Value e Wage dos jogadores. <font color='red'>(1 ponto)</font>\n",
    "\n",
    "A função deve converter o valor e salário (strings) para números reais (float)."
   ]
  },
  {
   "cell_type": "code",
   "execution_count": null,
   "metadata": {},
   "outputs": [],
   "source": [
    "# Coloque seu código aqui"
   ]
  },
  {
   "cell_type": "markdown",
   "metadata": {},
   "source": [
    "### c) Usando a função overall_classes, crie uma coluna denominada 'Performance' com as classes de jogadores baseado no valor da coluna 'Overall'.  <font color='red'>(0.5 ponto)</font>"
   ]
  },
  {
   "cell_type": "code",
   "execution_count": null,
   "metadata": {},
   "outputs": [],
   "source": [
    "# Criando três classes baseado no Overall\n",
    "# A função recebe um valor e retorna uma classe categórica da performance do jogador (Low, Normal, High)\n",
    "def overall_classes(x):\n",
    "    if x < 60:\n",
    "        return 'Baixa'\n",
    "    if x < 75:\n",
    "        return 'Normal'\n",
    "    return 'Alta'"
   ]
  },
  {
   "cell_type": "code",
   "execution_count": null,
   "metadata": {},
   "outputs": [],
   "source": [
    "# Coloque seu código aqui"
   ]
  },
  {
   "cell_type": "markdown",
   "metadata": {},
   "source": [
    "### d) Faça quatro gráficos boxplot. <font color='red'>(1 ponto)</font>\n",
    "Da **idade (age)**, do **valor (value)**, do **salário (wage)** e do **overall** dos jogadores.\n",
    "\n",
    "Pinte cada gráfico boxplot com a coluna **Performance** realizada no item c (parâmetro hue).\n",
    "\n",
    "O que você pode interepretar desses gráficos? "
   ]
  },
  {
   "cell_type": "code",
   "execution_count": null,
   "metadata": {},
   "outputs": [],
   "source": [
    "# Coloque seu código aqui\n",
    "#axes[1].set_yscale('log') Pode ajudar a modificar a escala do eixo y quando os valores são muito grandes"
   ]
  },
  {
   "cell_type": "markdown",
   "metadata": {},
   "source": [
    "### e) Cálcule a média, desvio padrão e correlação das colunas numéricas e plot a dispersão e distribuição das colunas numéricas. <font color='red'>(1 ponto)</font>\n",
    "\n",
    "Dica: tudo pode ser resolvido com três linhas de código vistas no Jupyter Tópico 2."
   ]
  },
  {
   "cell_type": "code",
   "execution_count": null,
   "metadata": {},
   "outputs": [],
   "source": [
    "# Coloque seu código aqui"
   ]
  },
  {
   "cell_type": "markdown",
   "metadata": {},
   "source": [
    "### f) Baseado nas colunas selecionadas e nas estatíticas você é capaz de propor uma estratégia de investimento em jogadores? <font color='red'>(1.5 pontos)</font>\n",
    "\n",
    "Dica: lembre-se que para investir você quer comprar um jogador barato (o que significa barato?) e de boa performance, que possa valorizar (para poder valorizar ele pode ser velho? quanto é velho para o futebol?) de forma a ser vendido por um valor maior no futuro. A posição é importante? A nacionalidade é importante? Existe alguma informação adicional que eliminamos no item (a) que poderia ser útil para criar essa estratégia?"
   ]
  },
  {
   "cell_type": "code",
   "execution_count": null,
   "metadata": {},
   "outputs": [],
   "source": [
    "# Coloque seu código aqui\n",
    "# Coloque comentários em markdown sobre sua conclusão"
   ]
  }
 ],
 "metadata": {
  "kernelspec": {
   "display_name": "Python 3 (ipykernel)",
   "language": "python",
   "name": "python3"
  },
  "language_info": {
   "codemirror_mode": {
    "name": "ipython",
    "version": 3
   },
   "file_extension": ".py",
   "mimetype": "text/x-python",
   "name": "python",
   "nbconvert_exporter": "python",
   "pygments_lexer": "ipython3",
   "version": "3.9.12"
  }
 },
 "nbformat": 4,
 "nbformat_minor": 2
}
