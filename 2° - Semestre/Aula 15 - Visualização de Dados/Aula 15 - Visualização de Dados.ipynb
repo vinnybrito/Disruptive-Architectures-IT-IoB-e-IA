{
 "cells": [
  {
   "cell_type": "markdown",
   "id": "93dd810a",
   "metadata": {},
   "source": [
    "# Aula 15 - Visualização de Dados\n",
    "\n",
    "Nesta aula iremos aprender a plotar gráficos utilizando bibliotecas Python.\n",
    "\n",
    "Além de olhar na documentação das bibliotecas como fazer aquilo que queremos precisamos treinar nossa capacidade analítica para entender gráficos e saber propor as melhores visualizações.\n",
    "\n"
   ]
  },
  {
   "cell_type": "code",
   "execution_count": null,
   "id": "17594dc7",
   "metadata": {},
   "outputs": [],
   "source": [
    "import numpy as np               # Para trabalhar com números, vetores, matrizes e funções matemáticas\n",
    "import matplotlib.pyplot as plt  # Para trabalhar com gráficos"
   ]
  },
  {
   "cell_type": "code",
   "execution_count": null,
   "id": "1762dff9",
   "metadata": {},
   "outputs": [],
   "source": [
    "# Essa parte pode não mostrar\n",
    "# Definindo uma função linear arbitraria (perceba que a=4 e b=5)\n",
    "def func_linear(x): return(4*x-5)\n",
    "\n",
    "x = np.array([i for i in range(-50,50)]) \n",
    "\n",
    "## Adidionando um ruído branco nos dados\n",
    "mean_noise = 0\n",
    "sigma_x = 25\n",
    "y = func_linear(x) + np.random.normal(mean_noise,sigma_x, len(x))\n",
    "\n",
    "\n",
    "# Definindo uma função linear arbitraria (perceba que a=4 e b=5)\n",
    "def func_quadratica(x): return(0.5*x**2-5*x+50)\n",
    "\n",
    "## Adidionando um ruído branco nos dados\n",
    "mean_noise = 0\n",
    "sigma_x = 225\n",
    "z = func_quadratica(x) + np.random.normal(mean_noise,sigma_x, len(x))\n",
    "\n",
    "\n",
    "linhas = [str(int(x[i]))+';'+str(int(y[i]))+';'+str(int(z[i]))+'\\n' for i in range(0, len(x))]\n",
    "    \n",
    "    \n",
    "with open('dados1.txt', 'w') as file:\n",
    "    file.writelines(linhas)"
   ]
  },
  {
   "cell_type": "markdown",
   "id": "b0eae3e5",
   "metadata": {},
   "source": [
    "## Exemplo 1\n",
    "\n",
    "Carregando dados de um arquivo txt:"
   ]
  },
  {
   "cell_type": "code",
   "execution_count": null,
   "id": "17b9ea41",
   "metadata": {},
   "outputs": [],
   "source": [
    "# Carregando o arquivo\n",
    "with open('dados1.txt', 'r') as file:\n",
    "    dados = file.readlines()"
   ]
  },
  {
   "cell_type": "code",
   "execution_count": null,
   "id": "8d285e3f",
   "metadata": {},
   "outputs": [],
   "source": [
    "# Passando os dados para vetores\n",
    "X = []\n",
    "Y = []\n",
    "Z = []\n",
    "\n",
    "for linha in dados:\n",
    "    X.append(float(linha.split(';')[0]))\n",
    "    Y.append(float(linha.split(';')[1]))\n",
    "    Z.append(float(linha.split(';')[2].replace('\\n','')))"
   ]
  },
  {
   "cell_type": "code",
   "execution_count": null,
   "id": "ddaa63a7",
   "metadata": {},
   "outputs": [],
   "source": [
    "# Transformando em vetores do numpy\n",
    "\n",
    "x = np.array(X)\n",
    "y = np.array(Y)\n",
    "z = np.array(Z)"
   ]
  },
  {
   "cell_type": "markdown",
   "id": "6e13cd8c",
   "metadata": {},
   "source": [
    "## 1.1 - Distribuição\n",
    "\n",
    "A distribuição é um gráfico de barras, bidimensional (2D), de **uma única variável**, onde o eixo X é a variável  (atributo) que se está estudando e o eixo Y é a quantidade de vezes que um determinado valor do atributo aparece nos dados.\n",
    "\n",
    "Ela é útil para nos dizer como os valores do nosso atributo estão distribuídos, se de maneira concetranda em torno de uma média ou de maneira uniforme por toda a faixa de valores. Inclusive nos permite saber se temos mais de uma média nos dados, indicando que é possível fazer uma separação dos dados."
   ]
  },
  {
   "cell_type": "code",
   "execution_count": null,
   "id": "ddaa02e3",
   "metadata": {
    "scrolled": false
   },
   "outputs": [],
   "source": [
    "n_bins = 20\n",
    "\n",
    "# Estamos criando uma figura e os eixos associados a ela\n",
    "# O subplot permite fazer mais de uma gráfico junto, neste caso 2\n",
    "# Cada subplot fica atribuído um eixo no vetor axs.\n",
    "# Basta acessar o vetor axs para chamar algum método\n",
    "fig, axs = plt.subplots(1, 3)\n",
    "\n",
    "fig.set_size_inches(16, 6)\n",
    "\n",
    "axs[0].hist(x, bins=n_bins) # Aqui estamos chamando o método .hist para plotar um histograma\n",
    "axs[1].hist(y, bins=n_bins)\n",
    "axs[2].hist(z, bins=n_bins)\n",
    "\n",
    "# Aqui estamos explicitamente dando nome aos eixos do gráfico\n",
    "axs[0].set_xlabel('x')\n",
    "axs[1].set_xlabel('y')\n",
    "axs[2].set_xlabel('z')\n",
    "axs[0].set_ylabel('Contagem')\n",
    "axs[1].set_ylabel('Contagem')\n",
    "axs[2].set_ylabel('Contagem')\n",
    "\n",
    "# Colocando grid\n",
    "axs[0].grid()\n",
    "axs[1].grid()\n",
    "axs[2].grid()\n",
    "\n",
    "# Vamos aumentar a separação entre os gráficos\n",
    "plt.subplots_adjust(wspace = 0.35)\n",
    "\n",
    "# OBS: histogramas são curvas de distribuição discretas"
   ]
  },
  {
   "cell_type": "markdown",
   "id": "36f86cc0",
   "metadata": {},
   "source": [
    "Vejamos como fazer o mesmo gráfico usando o Seaborn."
   ]
  },
  {
   "cell_type": "code",
   "execution_count": null,
   "id": "a52fefb1",
   "metadata": {},
   "outputs": [],
   "source": [
    "import seaborn as sns"
   ]
  },
  {
   "cell_type": "code",
   "execution_count": null,
   "id": "f03a4691",
   "metadata": {},
   "outputs": [],
   "source": [
    "ax = sns.displot(data=x,\n",
    "                 kde=True,\n",
    "                 facet_kws = dict(margin_titles=True,despine=False),\n",
    "                 bins=n_bins, \n",
    "                 linewidth=0.7,\n",
    "                )\n",
    "\n",
    "ax.set(xlabel='x', ylabel='Contagem', title='Distribuição')"
   ]
  },
  {
   "cell_type": "code",
   "execution_count": null,
   "id": "56fde38a",
   "metadata": {},
   "outputs": [],
   "source": [
    "ax = sns.displot(data=y,\n",
    "                 #hist=True,\n",
    "                 kde=True,\n",
    "                 facet_kws = dict(margin_titles=True,despine=False),\n",
    "                 bins=n_bins, \n",
    "                 linewidth=0.7,\n",
    "                )\n",
    "\n",
    "ax.set(xlabel='y', ylabel='Contagem', title='Distribuição')"
   ]
  },
  {
   "cell_type": "code",
   "execution_count": null,
   "id": "ecaf4136",
   "metadata": {},
   "outputs": [],
   "source": [
    "ax = sns.displot(data=z,\n",
    "                 #hist=True,\n",
    "                 kde=True,\n",
    "                 facet_kws = dict(margin_titles=True,despine=False),\n",
    "                 bins=n_bins, \n",
    "                 linewidth=0.7,\n",
    "                )\n",
    "\n",
    "ax.set(xlabel='z', ylabel='Contagem', title='Distribuição')"
   ]
  },
  {
   "cell_type": "code",
   "execution_count": null,
   "id": "aaef95b4",
   "metadata": {},
   "outputs": [],
   "source": [
    "sns.displot(data={'x':x,'y':y, 'z':z},\n",
    "            kde=True,\n",
    "            facet_kws = dict(margin_titles=True,despine=False),\n",
    "            linewidth=0.7\n",
    "           )\n",
    "\n",
    "ax.set(xlabel='valor da variável', ylabel='Contagem', title='Distribuição')"
   ]
  },
  {
   "cell_type": "markdown",
   "id": "2747ed1a",
   "metadata": {},
   "source": [
    "## 1.2 - Densidade Acumulada (ou Distribuição Acumulada)\n",
    "\n",
    "A densidade acumulada é uma forma de ver a distribuição dos dados no qual o eixo x está ordenado. No eixo y de vez de colocarmos as contagens, colocamos a proporção das contagem sendo que o total é 1 (100%)."
   ]
  },
  {
   "cell_type": "code",
   "execution_count": null,
   "id": "78e58a2e",
   "metadata": {},
   "outputs": [],
   "source": [
    "ax = sns.displot(data={'x':x,'y':y, 'z':z},\n",
    "            kind=\"ecdf\",\n",
    "            facet_kws = dict(margin_titles=True,despine=False),\n",
    "            linewidth=2)\n",
    "\n",
    "ax.set(xlabel='valor da variável', ylabel='Proporção do Total', title='Densidade Acumulada')"
   ]
  },
  {
   "cell_type": "markdown",
   "id": "6ba7894a",
   "metadata": {},
   "source": [
    "## 1.3 - Dispersão\n",
    "\n",
    "Dispersão é um gráfico onde temos duas variáveis (atributos). Queremos saber se existe alguma relação entre elas, isto é, se um depende da outra de alguma maneira, formando algum tipo de curva matemática que possamos descobrir ou utilizar para fazer predições."
   ]
  },
  {
   "cell_type": "code",
   "execution_count": null,
   "id": "2ddc6302",
   "metadata": {},
   "outputs": [],
   "source": [
    "fig, ax = plt.subplots(1,2)\n",
    "\n",
    "# Tamanho do gráfico\n",
    "fig.set_size_inches(16, 6)\n",
    "\n",
    "# Plot de dispersão (scatter)\n",
    "ax[0].scatter(x, y, c='blue', alpha=0.5)\n",
    "ax[1].scatter(x, z, c='green', alpha=0.5)\n",
    "\n",
    "# Aqui estamos explicitamente dando nome aos eixos do gráfico\n",
    "ax[0].set_xlabel('x')\n",
    "ax[1].set_xlabel('x')\n",
    "ax[0].set_ylabel('y')\n",
    "ax[1].set_ylabel('z')\n",
    "\n",
    "# Colocando grid\n",
    "ax[0].grid()\n",
    "ax[1].grid()\n",
    "\n",
    "# Arrumando os limites dos gráficos\n",
    "ax[0].set_xlim([-75,75])\n",
    "ax[0].set_ylim([-250,250])\n",
    "ax[1].set_xlim([-75,75])\n",
    "ax[1].set_ylim([-600,2000])\n",
    "\n",
    "# Vamos aumentar a separação entre os gráficos\n",
    "plt.subplots_adjust(wspace = 0.25)\n",
    "\n",
    "# Aumentando o tamanho da fonte (letra)\n",
    "plt.rcParams.update({'font.size': 12})"
   ]
  },
  {
   "cell_type": "code",
   "execution_count": null,
   "id": "70474106",
   "metadata": {},
   "outputs": [],
   "source": [
    "# Fazendo ambos no mesmo plot\n",
    "\n",
    "plt.scatter(x, y, c='blue', alpha=0.5)\n",
    "plt.scatter(x, z, c='red', alpha=0.5)\n",
    "plt.xlabel('x')\n",
    "plt.ylabel('valor')\n",
    "plt.legend(['y','z'])\n",
    "plt.xlim([-75,75])\n",
    "plt.ylim([-600,2000])\n",
    "plt.grid()"
   ]
  },
  {
   "cell_type": "code",
   "execution_count": null,
   "id": "e9e38d0d",
   "metadata": {},
   "outputs": [],
   "source": [
    "# Fazendo ambos no mesmo plot\n",
    "\n",
    "plt.scatter(y, z, c='green', alpha=0.5)\n",
    "plt.xlabel('y')\n",
    "plt.ylabel('z')\n",
    "plt.xlim([-250,250])\n",
    "plt.ylim([-600,2000])\n",
    "plt.grid()"
   ]
  },
  {
   "cell_type": "markdown",
   "id": "e4e1e86d",
   "metadata": {},
   "source": [
    "## 1.4 - Dispersão e Distribuição"
   ]
  },
  {
   "cell_type": "code",
   "execution_count": null,
   "id": "ea5b0dba",
   "metadata": {},
   "outputs": [],
   "source": [
    "sns.jointplot(data={'x':x,'y':y, 'z':z},\n",
    "              x=\"x\",\n",
    "              y=\"y\",\n",
    "              height=5, \n",
    "              ratio=2,\n",
    "              marginal_ticks=True,\n",
    "              kind=\"reg\"\n",
    "             )"
   ]
  },
  {
   "cell_type": "code",
   "execution_count": null,
   "id": "8b2a01f8",
   "metadata": {},
   "outputs": [],
   "source": [
    "sns.jointplot(data={'x':x,'y':y, 'z':z},\n",
    "              x=\"x\",\n",
    "              y=\"z\",\n",
    "              height=5, \n",
    "              ratio=2,\n",
    "              marginal_ticks=True,\n",
    "              kind=\"reg\"\n",
    "             )"
   ]
  },
  {
   "cell_type": "markdown",
   "id": "971759bb",
   "metadata": {},
   "source": [
    "-----------------------------------"
   ]
  },
  {
   "cell_type": "markdown",
   "id": "6171759b",
   "metadata": {},
   "source": [
    "## Exemplo 2 - (Exercício) "
   ]
  },
  {
   "cell_type": "code",
   "execution_count": null,
   "id": "ce2131bd",
   "metadata": {},
   "outputs": [],
   "source": [
    "idades = [20,12,15,30,15,13,14,12,10,12,14,19,5]\n",
    "alturas = [1.80,1.59,1.65,1.69,1.72,1.45,2,1.70,1.67,1.78,1.90,1.85,1.54]\n",
    "sexo = ['M','F','M','F','M','F','M','F','M','F','M','F','M']"
   ]
  },
  {
   "cell_type": "code",
   "execution_count": null,
   "id": "c4dca552",
   "metadata": {},
   "outputs": [],
   "source": [
    "len(idades), len(alturas), len(sexo)"
   ]
  },
  {
   "cell_type": "markdown",
   "id": "9bf13b17",
   "metadata": {},
   "source": [
    "## 2.0 - Estatística"
   ]
  },
  {
   "cell_type": "code",
   "execution_count": null,
   "id": "c20d3a20",
   "metadata": {},
   "outputs": [],
   "source": []
  },
  {
   "cell_type": "markdown",
   "id": "2e846695",
   "metadata": {},
   "source": [
    "## 2.1 - Distribuição"
   ]
  },
  {
   "cell_type": "code",
   "execution_count": null,
   "id": "6b620ccf",
   "metadata": {},
   "outputs": [],
   "source": []
  },
  {
   "cell_type": "markdown",
   "id": "9d8b8726",
   "metadata": {},
   "source": [
    "## 2.2 - Densidade Acumulada (ou Distribuição Acumulada)"
   ]
  },
  {
   "cell_type": "code",
   "execution_count": null,
   "id": "4b3e6b73",
   "metadata": {},
   "outputs": [],
   "source": []
  },
  {
   "cell_type": "markdown",
   "id": "b339a522",
   "metadata": {},
   "source": [
    "## 2.3 - Dispersão"
   ]
  },
  {
   "cell_type": "code",
   "execution_count": null,
   "id": "8d466619",
   "metadata": {},
   "outputs": [],
   "source": []
  },
  {
   "cell_type": "markdown",
   "id": "b697366e",
   "metadata": {},
   "source": [
    "## 2.4 - Dispersão e Distribuição"
   ]
  },
  {
   "cell_type": "code",
   "execution_count": null,
   "id": "49a5d712",
   "metadata": {},
   "outputs": [],
   "source": []
  },
  {
   "cell_type": "markdown",
   "id": "2ec288ba",
   "metadata": {},
   "source": [
    "-----------------------------"
   ]
  }
 ],
 "metadata": {
  "kernelspec": {
   "display_name": "Python 3",
   "language": "python",
   "name": "python3"
  },
  "language_info": {
   "codemirror_mode": {
    "name": "ipython",
    "version": 3
   },
   "file_extension": ".py",
   "mimetype": "text/x-python",
   "name": "python",
   "nbconvert_exporter": "python",
   "pygments_lexer": "ipython3",
   "version": "3.9.5"
  }
 },
 "nbformat": 4,
 "nbformat_minor": 5
}
