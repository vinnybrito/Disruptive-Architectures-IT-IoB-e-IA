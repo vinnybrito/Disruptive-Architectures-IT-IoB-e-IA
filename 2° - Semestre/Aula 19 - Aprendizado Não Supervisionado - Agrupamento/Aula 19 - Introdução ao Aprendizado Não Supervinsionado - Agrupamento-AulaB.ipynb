{
 "cells": [
  {
   "cell_type": "markdown",
   "metadata": {},
   "source": [
    "# Aula 19 - Introdução ao Aprendizado Não Supervisionado: Agrupamento\n",
    "\n",
    "Nesta aula vamos estudar o uso de algoritmos de **Aprendizado de Máquina Não Supervisionado**. Focaremos nos algoritmos utilizados para **agrupamento**, que é a tarefa de predizer grupos de saída (dados categóricos) para conjuntos de dados de entrada (numéricos ou transformados em numéricos) sem saber, a princípio, a saída correta.\n",
    "\n",
    "Existem muitos algoritmos para se realizar essa tarefa, entre eles:\n",
    "- K-means\n",
    "- DBSCAN\n",
    "- Cluster Hierarquico\n",
    "- Mistura Gaussiana\n",
    "- Redes Neurais (Self Organizing Map - SOM)\n",
    "\n",
    "Cada uma dessas técnicas tem uma forte base matemática e conceitual. Os algoritmos foram propostos ao longo de diversas décadas e possuem diferentes cenários de aplicações. Não teremos tempo de ver cada um deles a fundo, nem mesmo todos eles. Iremos nos focar nos procedimentos básicos para se utilizar esses algoritmos.\n",
    "\n",
    "Esses algoritmos podem ser aplicados para diferentes problemas que envolvam segmentação/agrupamento de dados.\n",
    "\n",
    "Em geral, o desempenho deles é menor do que aqueles obtidos com Classificadores (técnica supervisionada). Entretanto, as técnicas de agrupamento apresentam a vantagem de não precisarem de dados rotulados (label)."
   ]
  },
  {
   "cell_type": "markdown",
   "metadata": {},
   "source": [
    "### Bibliotecas utilizadas"
   ]
  },
  {
   "cell_type": "code",
   "execution_count": null,
   "metadata": {},
   "outputs": [],
   "source": [
    "import pandas as pd\n",
    "\n",
    "# Plot dos gráficos\n",
    "import matplotlib.pyplot as plt\n",
    "import matplotlib\n",
    "from matplotlib import colors\n",
    "import seaborn as sns\n",
    "import scipy.cluster.hierarchy as sch   # Dendograma\n",
    "\n",
    "\n",
    "# Algoritmos de Agrupamento\n",
    "from sklearn.cluster import KMeans, DBSCAN, AgglomerativeClustering\n",
    "from sklearn.mixture import GaussianMixture\n",
    "\n",
    "# Avaliacao de desemepnho\n",
    "from sklearn.metrics import adjusted_rand_score, silhouette_score"
   ]
  },
  {
   "cell_type": "markdown",
   "metadata": {},
   "source": [
    "## Exemplo 1\n",
    "\n",
    "    \n",
    "### Moons\n",
    "\n",
    "Reinaldo Sanchez-Arias, Assistant Professor of Data Science, Florida Polytechnic University, https://raw.githubusercontent.com/reisanar/datasets/master/moons.csv"
   ]
  },
  {
   "cell_type": "markdown",
   "metadata": {},
   "source": [
    "### Carregando os dados"
   ]
  },
  {
   "cell_type": "code",
   "execution_count": null,
   "metadata": {},
   "outputs": [],
   "source": [
    "url_bd = 'https://raw.githubusercontent.com/reisanar/datasets/master/moons.csv'\n",
    "moons = pd.read_csv(url_bd)"
   ]
  },
  {
   "cell_type": "code",
   "execution_count": null,
   "metadata": {},
   "outputs": [],
   "source": [
    "moons.head()"
   ]
  },
  {
   "cell_type": "code",
   "execution_count": null,
   "metadata": {},
   "outputs": [],
   "source": [
    "# Gráfico de DISPERSÃO\n",
    "plt.scatter(x=moons['X'], y=moons['Y'])"
   ]
  },
  {
   "cell_type": "markdown",
   "metadata": {},
   "source": [
    "### Criação do Modelos de Agrupamento"
   ]
  },
  {
   "cell_type": "code",
   "execution_count": null,
   "metadata": {},
   "outputs": [],
   "source": [
    "# Modelos de agrupamento\n",
    "rs=42\n",
    "km = KMeans(n_clusters=4, random_state=rs)            # KNN k=4\n",
    "gm = GaussianMixture(n_components=4, random_state=rs) # Gaussian Mixture k=4\n",
    "db = DBSCAN(eps=0.4)"
   ]
  },
  {
   "cell_type": "code",
   "execution_count": null,
   "metadata": {},
   "outputs": [],
   "source": [
    "# aplica o algoritmo e armazena o cluster de cada dado\n",
    "km_c = km.fit_predict(moons)  # \n",
    "gm_c = gm.fit_predict(moons)  # Permite mistura entre grupos (bem parecido com k-means)\n",
    "db_c = db.fit_predict(moons)  # Permite formatos não globulares"
   ]
  },
  {
   "cell_type": "code",
   "execution_count": null,
   "metadata": {},
   "outputs": [],
   "source": [
    "km_c"
   ]
  },
  {
   "cell_type": "code",
   "execution_count": null,
   "metadata": {},
   "outputs": [],
   "source": [
    "db_c"
   ]
  },
  {
   "cell_type": "code",
   "execution_count": null,
   "metadata": {},
   "outputs": [],
   "source": [
    "fig = plt.figure(figsize=(12, 8), dpi=80)\n",
    "plt.subplot(2,2,1)\n",
    "plt.scatter(x=moons['X'], y=moons['Y'])\n",
    "plt.title('Original')\n",
    "plt.subplot(2,2,2)\n",
    "plt.scatter(x=moons['X'], y=moons['Y'], c=km_c)\n",
    "plt.title('KMeans')\n",
    "plt.subplot(2,2,3)\n",
    "plt.scatter(x=moons['X'], y=moons['Y'], c=gm_c)\n",
    "plt.title('GaussianMixture')\n",
    "plt.subplot(2,2,4)\n",
    "plt.scatter(x=moons['X'], y=moons['Y'], c=db_c)\n",
    "plt.title('DBSCAN')\n",
    "plt.subplots_adjust(hspace = 0.35)"
   ]
  },
  {
   "cell_type": "markdown",
   "metadata": {},
   "source": [
    "--------------------------\n",
    "\n",
    "## Exemplo 2 - Grupo de Consumidores\n",
    "\n",
    "Esse conjunto de dados ilustra alguns dados dos consumidores de um shopping. **Será que podemos encontrar grupos de consumidores com os dados acima?**"
   ]
  },
  {
   "cell_type": "code",
   "execution_count": null,
   "metadata": {},
   "outputs": [],
   "source": [
    "dados = pd.read_csv(\"dados/mall.csv\", sep=',')"
   ]
  },
  {
   "cell_type": "code",
   "execution_count": null,
   "metadata": {},
   "outputs": [],
   "source": [
    "dados.head()"
   ]
  },
  {
   "cell_type": "markdown",
   "metadata": {},
   "source": [
    "### Analisando os dados\n",
    "A seguir vamos analisar os tipos de dados que temos."
   ]
  },
  {
   "cell_type": "code",
   "execution_count": null,
   "metadata": {},
   "outputs": [],
   "source": [
    "dados.info()"
   ]
  },
  {
   "cell_type": "code",
   "execution_count": null,
   "metadata": {},
   "outputs": [],
   "source": [
    "dados.shape"
   ]
  },
  {
   "cell_type": "code",
   "execution_count": null,
   "metadata": {},
   "outputs": [],
   "source": [
    "dados.isnull().sum() # Ver se tem dados nulos (células vazias)"
   ]
  },
  {
   "cell_type": "code",
   "execution_count": null,
   "metadata": {},
   "outputs": [],
   "source": [
    "dados.describe()"
   ]
  },
  {
   "cell_type": "code",
   "execution_count": null,
   "metadata": {},
   "outputs": [],
   "source": [
    "dados.hist(figsize=(12,12))"
   ]
  },
  {
   "cell_type": "code",
   "execution_count": null,
   "metadata": {},
   "outputs": [],
   "source": [
    "plt.figure(figsize=(6,4))\n",
    "sns.heatmap(dados[['Age','Annual Income (k$)','Spending Score (1-100)']].corr(method = 'pearson'),\n",
    "            annot=True, fmt=\".1f\");"
   ]
  },
  {
   "cell_type": "code",
   "execution_count": null,
   "metadata": {},
   "outputs": [],
   "source": [
    "dados['Gender'].value_counts()"
   ]
  },
  {
   "cell_type": "markdown",
   "metadata": {},
   "source": [
    "Boa proporção entre os generos que temos disponíveis em nossos dados.\n",
    "\n",
    "Vamos fazer um gráfico completo com todos os dados para checarmos possíveis agrupamentos que podem ser realizados."
   ]
  },
  {
   "cell_type": "code",
   "execution_count": null,
   "metadata": {},
   "outputs": [],
   "source": [
    "sns.pairplot(dados)\n",
    "plt.show()"
   ]
  },
  {
   "cell_type": "markdown",
   "metadata": {},
   "source": [
    "Aparentemente o Annual Income e o Spending Score permitem alguns agrupamentos dos nossos dados. \n",
    "\n",
    "Podemos trabalhar com eles."
   ]
  },
  {
   "cell_type": "markdown",
   "metadata": {},
   "source": [
    "### Criando os agrupamentos\n",
    "Vamos criar agrupamentos com diferentes metodologias:\n",
    "\n",
    "### 1 - K-Means"
   ]
  },
  {
   "cell_type": "code",
   "execution_count": null,
   "metadata": {},
   "outputs": [],
   "source": [
    "# Definindo o modelo de clusterizacao. K-MEANS com 6 clusters\n",
    "kmeans = KMeans(n_clusters=6,random_state=0)\n",
    "\n",
    "#Implementando o K-Means nos dados:\n",
    "kmeans.fit(dados[['Annual Income (k$)','Spending Score (1-100)']])\n",
    "\n",
    "#Salvando os centroides de cada cluster\n",
    "centroides = kmeans.cluster_centers_\n",
    "\n",
    "#Salvando os labels dos clusters para cada exemplo\n",
    "kmeans_labels = kmeans.predict(dados[['Annual Income (k$)','Spending Score (1-100)']])"
   ]
  },
  {
   "cell_type": "markdown",
   "metadata": {},
   "source": [
    "Vamos analisar a nossa previsao e os centroides:"
   ]
  },
  {
   "cell_type": "code",
   "execution_count": null,
   "metadata": {},
   "outputs": [],
   "source": [
    "pd.Series(kmeans_labels).value_counts()"
   ]
  },
  {
   "cell_type": "code",
   "execution_count": null,
   "metadata": {},
   "outputs": [],
   "source": [
    "centroides"
   ]
  },
  {
   "cell_type": "code",
   "execution_count": null,
   "metadata": {},
   "outputs": [],
   "source": [
    "# plotando os dados identificando com os seus clusters\n",
    "plt.scatter(dados[['Annual Income (k$)']],dados[['Spending Score (1-100)']], c=kmeans_labels, alpha=0.5, cmap='rainbow')\n",
    "plt.xlabel('Salario Anual')\n",
    "plt.ylabel('Pontuação de gastos')\n",
    "# plotando os centroides\n",
    "plt.scatter(centroides[:, 0], centroides[:, 1], c='black', marker='X', s=200, alpha=0.5)\n",
    "plt.rcParams['figure.figsize'] = (15, 10)\n",
    "plt.show()"
   ]
  },
  {
   "cell_type": "markdown",
   "metadata": {},
   "source": [
    "Escolhendo a quantidade de grupos usando o método do \"cotovelo\":"
   ]
  },
  {
   "cell_type": "code",
   "execution_count": null,
   "metadata": {},
   "outputs": [],
   "source": [
    "# Lista com a quantidade de clusters que iremos testar\n",
    "k = list(range(1, 10))\n",
    "print(k)"
   ]
  },
  {
   "cell_type": "code",
   "execution_count": null,
   "metadata": {},
   "outputs": [],
   "source": [
    "# Armazena o SSE (soma dos erros quadraticos) para cada quantidade de k\n",
    "sse = []\n",
    "\n",
    "# Roda o K-means para cada k fornecido\n",
    "for i in k:\n",
    "    kmeans = KMeans(n_clusters=i, random_state=0)\n",
    "    kmeans.fit(dados[['Annual Income (k$)','Spending Score (1-100)']])\n",
    "    sse.append(kmeans.inertia_)\n",
    "\n",
    "plt.rcParams['figure.figsize'] = (10, 5)\n",
    "# Plota o gráfico com a soma dos erros quadraticos\n",
    "plt.plot(k, sse, '-o')\n",
    "plt.xlabel(r'Número de clusters')\n",
    "plt.ylabel('Inércia')\n",
    "plt.show()"
   ]
  },
  {
   "cell_type": "markdown",
   "metadata": {},
   "source": [
    "Podemos notar que após 3 ou 5 clusters a soma do erro quadratico tem uma redução na forma com a qual a função está decrescendo. Assim podemos adotar 5 clusters. Checando os resultados para 5 clusters:"
   ]
  },
  {
   "cell_type": "code",
   "execution_count": null,
   "metadata": {},
   "outputs": [],
   "source": [
    "# Definindo o modelo de clusterizacao. K-MEANS com 5 clusters\n",
    "kmeans = KMeans(n_clusters=5,random_state=0)\n",
    "\n",
    "#Implementando o K-Means nos dados:\n",
    "kmeans.fit(dados[['Annual Income (k$)','Spending Score (1-100)']])\n",
    "\n",
    "#Salvando os centroides de cada cluster\n",
    "centroides = kmeans.cluster_centers_\n",
    "\n",
    "#Salvando os labels dos clusters para cada exemplo\n",
    "kmeans_labels = kmeans.predict(dados[['Annual Income (k$)','Spending Score (1-100)']])"
   ]
  },
  {
   "cell_type": "code",
   "execution_count": null,
   "metadata": {},
   "outputs": [],
   "source": [
    "# plotando os dados identificando com os seus clusters\n",
    "plt.scatter(dados[['Annual Income (k$)']],dados[['Spending Score (1-100)']], c=kmeans_labels, alpha=0.5, cmap='rainbow')\n",
    "plt.xlabel('Salario Anual')\n",
    "plt.ylabel('Pontuação de gastos')\n",
    "# plotando os centroides\n",
    "plt.scatter(centroides[:, 0], centroides[:, 1], c='black', marker='X', s=200, alpha=0.5)\n",
    "plt.rcParams['figure.figsize'] = (15, 10)\n",
    "plt.show()"
   ]
  },
  {
   "cell_type": "code",
   "execution_count": null,
   "metadata": {},
   "outputs": [],
   "source": [
    "dados['grupos kmeas'] = kmeans_labels"
   ]
  },
  {
   "cell_type": "code",
   "execution_count": null,
   "metadata": {},
   "outputs": [],
   "source": [
    "dados_2 = dados[dados['grupos kmeas'] == 2]"
   ]
  },
  {
   "cell_type": "code",
   "execution_count": null,
   "metadata": {},
   "outputs": [],
   "source": [
    "plt.figure(figsize=(6,4))\n",
    "sns.heatmap(dados_2.groupby('grupos kmeas').corr(method = 'pearson'),\n",
    "            annot=True, fmt=\".1f\");"
   ]
  },
  {
   "cell_type": "markdown",
   "metadata": {},
   "source": [
    "### 2 - DBSCAN"
   ]
  },
  {
   "cell_type": "code",
   "execution_count": null,
   "metadata": {},
   "outputs": [],
   "source": [
    "#Criando o modelo:\n",
    "dbscan = DBSCAN(eps=10, min_samples=8)\n",
    "#Ajustando aos dados\n",
    "dbscan.fit(dados[['Annual Income (k$)','Spending Score (1-100)']])\n",
    "\n",
    "dbscan_labels = dbscan.labels_\n",
    "dbscan_labels"
   ]
  },
  {
   "cell_type": "markdown",
   "metadata": {},
   "source": [
    "Labels com -1 foram classificados como outliers"
   ]
  },
  {
   "cell_type": "code",
   "execution_count": null,
   "metadata": {},
   "outputs": [],
   "source": [
    "#Plotando o grafico:\n",
    "plt.scatter(dados[['Annual Income (k$)']],dados[['Spending Score (1-100)']], c=dbscan_labels, alpha=0.5, cmap='rainbow')\n",
    "plt.xlabel('Annual Income (k$)')\n",
    "plt.ylabel('Spending Score (1-100)')\n",
    "plt.show()"
   ]
  },
  {
   "cell_type": "code",
   "execution_count": null,
   "metadata": {},
   "outputs": [],
   "source": [
    "#Plotando o grafico sem os outliers:\n",
    "#mascara para outlier\n",
    "mascara = dbscan_labels>=0\n",
    "\n",
    "#plotando o gráfico\n",
    "plt.scatter(dados[['Annual Income (k$)']][mascara],dados[['Spending Score (1-100)']][mascara], c=dbscan_labels[mascara], alpha=0.5, cmap='rainbow')\n",
    "plt.xlabel('Annual Income (k$)')\n",
    "plt.ylabel('Spending Score (1-100)')\n",
    "plt.show()\n"
   ]
  },
  {
   "cell_type": "markdown",
   "metadata": {},
   "source": [
    "Checando a quantidade de valores que foram classificados como Outliers:"
   ]
  },
  {
   "cell_type": "code",
   "execution_count": null,
   "metadata": {},
   "outputs": [],
   "source": [
    "list(mascara).count(False)"
   ]
  },
  {
   "cell_type": "markdown",
   "metadata": {},
   "source": [
    "### 3 - Agrupamento Hierárquico"
   ]
  },
  {
   "cell_type": "code",
   "execution_count": null,
   "metadata": {},
   "outputs": [],
   "source": [
    "# Criando o modelo\n",
    "# linkage = ‘ward’ minimizes the variance of the clusters being merged.\n",
    "model = AgglomerativeClustering(n_clusters=5,linkage='ward')\n",
    "\n",
    "model.fit(dados[['Annual Income (k$)','Spending Score (1-100)']])\n",
    "hierarquico_labels = model.labels_\n",
    "hierarquico_labels"
   ]
  },
  {
   "cell_type": "code",
   "execution_count": null,
   "metadata": {},
   "outputs": [],
   "source": [
    "# plotando os dados identificando com os seus clusters\n",
    "plt.scatter(dados[['Annual Income (k$)']],dados[['Spending Score (1-100)']], c=hierarquico_labels, alpha=0.5, cmap='rainbow')\n",
    "plt.xlabel('Salario Anual')\n",
    "plt.ylabel('Pontuação de gastos')\n",
    "# plotando os centroides\n",
    "\n",
    "plt.rcParams['figure.figsize'] = (15, 10)\n",
    "plt.show()"
   ]
  },
  {
   "cell_type": "markdown",
   "metadata": {},
   "source": [
    "Visualizando o dendrograma"
   ]
  },
  {
   "cell_type": "code",
   "execution_count": null,
   "metadata": {},
   "outputs": [],
   "source": [
    "dendrogram = sch.dendrogram(sch.linkage(dados[['Annual Income (k$)','Spending Score (1-100)']], method = 'ward'))\n",
    "plt.title('Dendrogam', fontsize = 20)\n",
    "plt.xlabel('Clientes')\n",
    "plt.ylabel('Distância Euclidiana')\n",
    "plt.show()"
   ]
  },
  {
   "cell_type": "markdown",
   "metadata": {},
   "source": [
    "### 4 - Avaliando o Desempenho dos Algoritmos\n",
    "\n",
    "(a) Usando o **Adjusted Rand Index**"
   ]
  },
  {
   "cell_type": "markdown",
   "metadata": {},
   "source": [
    "Comparação entre K-Means e Agrupamento Hierarquico:"
   ]
  },
  {
   "cell_type": "code",
   "execution_count": null,
   "metadata": {},
   "outputs": [],
   "source": [
    "adjusted_rand_score(kmeans_labels,hierarquico_labels)"
   ]
  },
  {
   "cell_type": "markdown",
   "metadata": {},
   "source": [
    "Comparação entre K-Means e DBSCAN:"
   ]
  },
  {
   "cell_type": "code",
   "execution_count": null,
   "metadata": {},
   "outputs": [],
   "source": [
    "adjusted_rand_score(kmeans_labels,dbscan_labels)"
   ]
  },
  {
   "cell_type": "markdown",
   "metadata": {},
   "source": [
    "Comparação entre Agrupamento Hierarquico e o DBSCAN:"
   ]
  },
  {
   "cell_type": "code",
   "execution_count": null,
   "metadata": {},
   "outputs": [],
   "source": [
    "adjusted_rand_score(hierarquico_labels,dbscan_labels)"
   ]
  },
  {
   "cell_type": "markdown",
   "metadata": {},
   "source": [
    "Percebemos que o KMeans e o Agrupamento hierarquico para esse caso conseguiram resultados mais próximos um do outro do que quando comparados com o DBSCAN"
   ]
  },
  {
   "cell_type": "markdown",
   "metadata": {},
   "source": [
    "(b) Avaliando a métrica de **Silhouette**"
   ]
  },
  {
   "cell_type": "markdown",
   "metadata": {},
   "source": [
    "KMEANS:"
   ]
  },
  {
   "cell_type": "code",
   "execution_count": null,
   "metadata": {},
   "outputs": [],
   "source": [
    "silhouette_score(dados[['Annual Income (k$)','Spending Score (1-100)']],kmeans_labels)"
   ]
  },
  {
   "cell_type": "markdown",
   "metadata": {},
   "source": [
    "DBSCAN:"
   ]
  },
  {
   "cell_type": "code",
   "execution_count": null,
   "metadata": {},
   "outputs": [],
   "source": [
    "silhouette_score(dados[['Annual Income (k$)','Spending Score (1-100)']],dbscan_labels)"
   ]
  },
  {
   "cell_type": "markdown",
   "metadata": {},
   "source": [
    "Agrupamento Hierarquico:"
   ]
  },
  {
   "cell_type": "code",
   "execution_count": null,
   "metadata": {},
   "outputs": [],
   "source": [
    "silhouette_score(dados[['Annual Income (k$)','Spending Score (1-100)']],hierarquico_labels)"
   ]
  },
  {
   "cell_type": "markdown",
   "metadata": {},
   "source": [
    "Para mais informações de aplicação de técnicas de Agrupamento na segmentação de imagens, https://experiencor.github.io/segmentation.html"
   ]
  }
 ],
 "metadata": {
  "kernelspec": {
   "display_name": "Python 3 (ipykernel)",
   "language": "python",
   "name": "python3"
  },
  "language_info": {
   "codemirror_mode": {
    "name": "ipython",
    "version": 3
   },
   "file_extension": ".py",
   "mimetype": "text/x-python",
   "name": "python",
   "nbconvert_exporter": "python",
   "pygments_lexer": "ipython3",
   "version": "3.11.2"
  }
 },
 "nbformat": 4,
 "nbformat_minor": 2
}
